{
 "cells": [
  {
   "cell_type": "code",
   "execution_count": 1,
   "metadata": {},
   "outputs": [
    {
     "name": "stderr",
     "output_type": "stream",
     "text": [
      "Using TensorFlow backend.\n"
     ]
    }
   ],
   "source": [
    "import keras\n",
    "import os, shutil\n",
    "\n",
    "# 원본 데이터셋을 압축 해제한 디렉터리 경로\n",
    "original_bart_simpson = './simpsons_data/bart_simpson'\n",
    "original_homer_simpson = './simpsons_data/homer_simpson'\n",
    "original_lisa_simpson = './simpsons_data/lisa_simpson'\n",
    "original_marge_simpson = './simpsons_data/marge_simpson'\n",
    "\n",
    "# 소규모 데이터셋을 저장할 디렉터리\n",
    "base_dir = './simpsons_small'\n",
    "\n",
    "# 훈련, 검증, 테스트 분할을 위한 디렉터리\n",
    "train_dir = os.path.join(base_dir, 'train')\n",
    "validation_dir = os.path.join(base_dir, 'validation')\n",
    "test_dir = os.path.join(base_dir, 'test')\n",
    "\n",
    "# 심슨 라벨 리스트\n",
    "simpson_labels = os.listdir(train_dir)"
   ]
  },
  {
   "cell_type": "code",
   "execution_count": 2,
   "metadata": {
    "scrolled": false
   },
   "outputs": [
    {
     "name": "stdout",
     "output_type": "stream",
     "text": [
      "WARNING:tensorflow:From C:\\ProgramData\\Anaconda3\\envs\\keras\\lib\\site-packages\\tensorflow\\python\\framework\\op_def_library.py:263: colocate_with (from tensorflow.python.framework.ops) is deprecated and will be removed in a future version.\n",
      "Instructions for updating:\n",
      "Colocations handled automatically by placer.\n",
      "WARNING:tensorflow:From C:\\ProgramData\\Anaconda3\\envs\\keras\\lib\\site-packages\\keras\\backend\\tensorflow_backend.py:3445: calling dropout (from tensorflow.python.ops.nn_ops) with keep_prob is deprecated and will be removed in a future version.\n",
      "Instructions for updating:\n",
      "Please use `rate` instead of `keep_prob`. Rate should be set to `rate = 1 - keep_prob`.\n"
     ]
    }
   ],
   "source": [
    "from keras import layers\n",
    "from keras import models\n",
    "\n",
    "model = models.Sequential()\n",
    "## conv1\n",
    "model.add(layers.Conv2D(64, (3, 3), activation='relu',\n",
    "                        input_shape=(150, 150, 1), padding = 'SAME'))\n",
    "model.add(layers.Conv2D(64, (3, 3), activation='relu', padding = 'SAME'))\n",
    "model.add(layers.MaxPooling2D((2, 2)))\n",
    "\n",
    "## conv2\n",
    "model.add(layers.Conv2D(128, (3, 3), activation='relu', padding = 'SAME'))\n",
    "model.add(layers.Conv2D(128, (3, 3), activation='relu', padding = 'SAME'))\n",
    "model.add(layers.MaxPooling2D((2, 2)))\n",
    "\n",
    "## conv3\n",
    "model.add(layers.Conv2D(256, (3, 3), activation='relu', padding = 'SAME'))\n",
    "model.add(layers.Conv2D(256, (3, 3), activation='relu', padding = 'SAME'))\n",
    "model.add(layers.Conv2D(256, (3, 3), activation='relu', padding = 'SAME'))\n",
    "model.add(layers.MaxPooling2D((2, 2)))\n",
    "\n",
    "## conv4\n",
    "model.add(layers.Conv2D(512, (3, 3), activation='relu', padding = 'SAME'))\n",
    "model.add(layers.Conv2D(512, (3, 3), activation='relu', padding = 'SAME'))\n",
    "model.add(layers.Conv2D(512, (3, 3), activation='relu', padding = 'SAME'))\n",
    "model.add(layers.MaxPooling2D((2, 2)))\n",
    "\n",
    "# ## conv5\n",
    "model.add(layers.Conv2D(512, (3, 3), activation='relu', padding = 'SAME'))\n",
    "model.add(layers.Conv2D(512, (3, 3), activation='relu', padding = 'SAME'))\n",
    "model.add(layers.Conv2D(512, (3, 3), activation='relu', padding = 'SAME'))\n",
    "model.add(layers.MaxPooling2D((2, 2)))\n",
    "\n",
    "# 출력층\n",
    "model.add(layers.Flatten())\n",
    "model.add(layers.Dense(256, activation='relu'))\n",
    "model.add(layers.Dropout(0.5))\n",
    "model.add(layers.Dense(4, activation='softmax'))\n"
   ]
  },
  {
   "cell_type": "code",
   "execution_count": 3,
   "metadata": {},
   "outputs": [
    {
     "name": "stdout",
     "output_type": "stream",
     "text": [
      "_________________________________________________________________\n",
      "Layer (type)                 Output Shape              Param #   \n",
      "=================================================================\n",
      "conv2d_1 (Conv2D)            (None, 150, 150, 64)      640       \n",
      "_________________________________________________________________\n",
      "conv2d_2 (Conv2D)            (None, 150, 150, 64)      36928     \n",
      "_________________________________________________________________\n",
      "max_pooling2d_1 (MaxPooling2 (None, 75, 75, 64)        0         \n",
      "_________________________________________________________________\n",
      "conv2d_3 (Conv2D)            (None, 75, 75, 128)       73856     \n",
      "_________________________________________________________________\n",
      "conv2d_4 (Conv2D)            (None, 75, 75, 128)       147584    \n",
      "_________________________________________________________________\n",
      "max_pooling2d_2 (MaxPooling2 (None, 37, 37, 128)       0         \n",
      "_________________________________________________________________\n",
      "conv2d_5 (Conv2D)            (None, 37, 37, 256)       295168    \n",
      "_________________________________________________________________\n",
      "conv2d_6 (Conv2D)            (None, 37, 37, 256)       590080    \n",
      "_________________________________________________________________\n",
      "conv2d_7 (Conv2D)            (None, 37, 37, 256)       590080    \n",
      "_________________________________________________________________\n",
      "max_pooling2d_3 (MaxPooling2 (None, 18, 18, 256)       0         \n",
      "_________________________________________________________________\n",
      "conv2d_8 (Conv2D)            (None, 18, 18, 512)       1180160   \n",
      "_________________________________________________________________\n",
      "conv2d_9 (Conv2D)            (None, 18, 18, 512)       2359808   \n",
      "_________________________________________________________________\n",
      "conv2d_10 (Conv2D)           (None, 18, 18, 512)       2359808   \n",
      "_________________________________________________________________\n",
      "max_pooling2d_4 (MaxPooling2 (None, 9, 9, 512)         0         \n",
      "_________________________________________________________________\n",
      "conv2d_11 (Conv2D)           (None, 9, 9, 512)         2359808   \n",
      "_________________________________________________________________\n",
      "conv2d_12 (Conv2D)           (None, 9, 9, 512)         2359808   \n",
      "_________________________________________________________________\n",
      "conv2d_13 (Conv2D)           (None, 9, 9, 512)         2359808   \n",
      "_________________________________________________________________\n",
      "max_pooling2d_5 (MaxPooling2 (None, 4, 4, 512)         0         \n",
      "_________________________________________________________________\n",
      "flatten_1 (Flatten)          (None, 8192)              0         \n",
      "_________________________________________________________________\n",
      "dense_1 (Dense)              (None, 256)               2097408   \n",
      "_________________________________________________________________\n",
      "dropout_1 (Dropout)          (None, 256)               0         \n",
      "_________________________________________________________________\n",
      "dense_2 (Dense)              (None, 4)                 1028      \n",
      "=================================================================\n",
      "Total params: 16,811,972\n",
      "Trainable params: 16,811,972\n",
      "Non-trainable params: 0\n",
      "_________________________________________________________________\n"
     ]
    }
   ],
   "source": [
    "model.summary()"
   ]
  },
  {
   "cell_type": "code",
   "execution_count": 4,
   "metadata": {},
   "outputs": [],
   "source": [
    "from keras import optimizers\n",
    "\n",
    "model.compile(loss='categorical_crossentropy',\n",
    "              optimizer=optimizers.RMSprop(lr=15e-5),\n",
    "              metrics=['acc'])"
   ]
  },
  {
   "cell_type": "code",
   "execution_count": 5,
   "metadata": {},
   "outputs": [
    {
     "name": "stdout",
     "output_type": "stream",
     "text": [
      "Found 3600 images belonging to 4 classes.\n",
      "Found 800 images belonging to 4 classes.\n"
     ]
    }
   ],
   "source": [
    "from keras.preprocessing.image import ImageDataGenerator\n",
    "import matplotlib.pyplot as plt\n",
    "# 모든 이미지를 1/255로 스케일을 조정합니다\n",
    "train_datagen = ImageDataGenerator(rescale=1./255)\n",
    "test_datagen = ImageDataGenerator(rescale=1./255)\n",
    "\n",
    "train_generator = train_datagen.flow_from_directory(\n",
    "        # 타깃 디렉터리\n",
    "        train_dir,\n",
    "        # 모든 이미지를 150 × 150 크기로 바꿉니다\n",
    "        target_size=(150, 150),\n",
    "        color_mode = 'grayscale', #컬러 이미지를 흑백 이미지로 변환\n",
    "        batch_size=60,\n",
    "        class_mode='categorical')\n",
    "\n",
    "validation_generator = test_datagen.flow_from_directory(\n",
    "        validation_dir,\n",
    "        target_size=(150, 150),\n",
    "        color_mode = 'grayscale', #컬러 이미지를 흑백 이미지로 변환\n",
    "        batch_size=50,\n",
    "        class_mode='categorical')\n"
   ]
  },
  {
   "cell_type": "markdown",
   "metadata": {},
   "source": [
    "from keras.preprocessing import image\n",
    "\n",
    "img1 = train_generator[0][0][0]\n",
    "print(type(img1))\n",
    "img1_tensor = image.img_to_array(img1)\n",
    "img1_tensor /= 255.\n",
    "plt.plot(img1_tensor)\n",
    "plt.show()\n"
   ]
  },
  {
   "cell_type": "code",
   "execution_count": 6,
   "metadata": {
    "scrolled": false
   },
   "outputs": [
    {
     "name": "stdout",
     "output_type": "stream",
     "text": [
      "WARNING:tensorflow:From C:\\ProgramData\\Anaconda3\\envs\\keras\\lib\\site-packages\\tensorflow\\python\\ops\\math_ops.py:3066: to_int32 (from tensorflow.python.ops.math_ops) is deprecated and will be removed in a future version.\n",
      "Instructions for updating:\n",
      "Use tf.cast instead.\n",
      "Epoch 1/50\n",
      "60/60 [==============================] - 76s 1s/step - loss: 1.5437 - acc: 0.2736 - val_loss: 1.3863 - val_acc: 0.2500\n",
      "Epoch 2/50\n",
      "60/60 [==============================] - 66s 1s/step - loss: 1.3933 - acc: 0.2750 - val_loss: 1.3838 - val_acc: 0.3125\n",
      "Epoch 3/50\n",
      "60/60 [==============================] - 67s 1s/step - loss: 1.3892 - acc: 0.2419 - val_loss: 1.3860 - val_acc: 0.2500\n",
      "Epoch 4/50\n",
      "60/60 [==============================] - 68s 1s/step - loss: 1.3859 - acc: 0.2967 - val_loss: 1.3758 - val_acc: 0.2675\n",
      "Epoch 5/50\n",
      "60/60 [==============================] - 68s 1s/step - loss: 1.4141 - acc: 0.3383 - val_loss: 1.2845 - val_acc: 0.4537\n",
      "Epoch 6/50\n",
      "60/60 [==============================] - 69s 1s/step - loss: 1.2501 - acc: 0.4378 - val_loss: 1.3804 - val_acc: 0.2588\n",
      "Epoch 7/50\n",
      "60/60 [==============================] - 69s 1s/step - loss: 1.1808 - acc: 0.4806 - val_loss: 1.0798 - val_acc: 0.5738\n",
      "Epoch 8/50\n",
      "60/60 [==============================] - 70s 1s/step - loss: 1.0515 - acc: 0.5511 - val_loss: 1.0431 - val_acc: 0.5638\n",
      "Epoch 9/50\n",
      "60/60 [==============================] - 70s 1s/step - loss: 0.9400 - acc: 0.6056 - val_loss: 0.7963 - val_acc: 0.6875\n",
      "Epoch 10/50\n",
      "60/60 [==============================] - 70s 1s/step - loss: 0.8098 - acc: 0.6831 - val_loss: 0.7812 - val_acc: 0.7113\n",
      "Epoch 11/50\n",
      "60/60 [==============================] - 70s 1s/step - loss: 0.7549 - acc: 0.7033 - val_loss: 0.6788 - val_acc: 0.7200\n",
      "Epoch 12/50\n",
      "60/60 [==============================] - 70s 1s/step - loss: 0.6413 - acc: 0.7636 - val_loss: 0.8071 - val_acc: 0.6700\n",
      "Epoch 13/50\n",
      "60/60 [==============================] - 70s 1s/step - loss: 0.5676 - acc: 0.7906 - val_loss: 0.6922 - val_acc: 0.7587\n",
      "Epoch 14/50\n",
      "60/60 [==============================] - 70s 1s/step - loss: 0.5477 - acc: 0.8017 - val_loss: 0.6433 - val_acc: 0.7488\n",
      "Epoch 15/50\n",
      "60/60 [==============================] - 70s 1s/step - loss: 0.4770 - acc: 0.8292 - val_loss: 0.5395 - val_acc: 0.7950\n",
      "Epoch 16/50\n",
      "60/60 [==============================] - 71s 1s/step - loss: 0.4340 - acc: 0.8403 - val_loss: 0.4994 - val_acc: 0.8375\n",
      "Epoch 17/50\n",
      "60/60 [==============================] - 71s 1s/step - loss: 0.3986 - acc: 0.8622 - val_loss: 0.4274 - val_acc: 0.8375\n",
      "Epoch 18/50\n",
      "60/60 [==============================] - 71s 1s/step - loss: 0.3407 - acc: 0.8778 - val_loss: 0.4117 - val_acc: 0.8525\n",
      "Epoch 19/50\n",
      "60/60 [==============================] - 71s 1s/step - loss: 0.3138 - acc: 0.8856 - val_loss: 0.4693 - val_acc: 0.8462\n",
      "Epoch 20/50\n",
      "60/60 [==============================] - 71s 1s/step - loss: 0.2726 - acc: 0.9025 - val_loss: 0.4193 - val_acc: 0.8437\n",
      "Epoch 21/50\n",
      "60/60 [==============================] - 71s 1s/step - loss: 0.2394 - acc: 0.9167 - val_loss: 0.4400 - val_acc: 0.8312\n",
      "Epoch 22/50\n",
      "60/60 [==============================] - 71s 1s/step - loss: 0.2156 - acc: 0.9283 - val_loss: 0.4484 - val_acc: 0.8512\n",
      "Epoch 23/50\n",
      "60/60 [==============================] - 71s 1s/step - loss: 0.2291 - acc: 0.9300 - val_loss: 0.3845 - val_acc: 0.8587\n",
      "Epoch 24/50\n",
      "60/60 [==============================] - 71s 1s/step - loss: 0.1659 - acc: 0.9458 - val_loss: 0.4090 - val_acc: 0.8612\n",
      "Epoch 25/50\n",
      "60/60 [==============================] - 71s 1s/step - loss: 0.1675 - acc: 0.9475 - val_loss: 0.4650 - val_acc: 0.8475\n",
      "Epoch 26/50\n",
      "60/60 [==============================] - 71s 1s/step - loss: 0.1403 - acc: 0.9575 - val_loss: 0.4039 - val_acc: 0.8387\n",
      "Epoch 27/50\n",
      "60/60 [==============================] - 71s 1s/step - loss: 0.1244 - acc: 0.9603 - val_loss: 0.6044 - val_acc: 0.8150\n",
      "Epoch 28/50\n",
      "60/60 [==============================] - 71s 1s/step - loss: 0.1360 - acc: 0.9533 - val_loss: 0.5842 - val_acc: 0.8675\n",
      "Epoch 29/50\n",
      "60/60 [==============================] - 71s 1s/step - loss: 0.1081 - acc: 0.9664 - val_loss: 0.4701 - val_acc: 0.8625\n",
      "Epoch 30/50\n",
      "60/60 [==============================] - 71s 1s/step - loss: 0.1011 - acc: 0.9689 - val_loss: 0.5458 - val_acc: 0.8737\n",
      "Epoch 31/50\n",
      "60/60 [==============================] - 71s 1s/step - loss: 0.0714 - acc: 0.9767 - val_loss: 0.5637 - val_acc: 0.8650\n",
      "Epoch 32/50\n",
      "60/60 [==============================] - 71s 1s/step - loss: 0.1127 - acc: 0.9692 - val_loss: 0.5056 - val_acc: 0.8412\n",
      "Epoch 33/50\n",
      "60/60 [==============================] - 70s 1s/step - loss: 0.0730 - acc: 0.9778 - val_loss: 0.4501 - val_acc: 0.8587\n",
      "Epoch 34/50\n",
      "60/60 [==============================] - 70s 1s/step - loss: 0.0649 - acc: 0.9836 - val_loss: 0.7761 - val_acc: 0.8725\n",
      "Epoch 35/50\n",
      "60/60 [==============================] - 70s 1s/step - loss: 0.1018 - acc: 0.9731 - val_loss: 0.5927 - val_acc: 0.8637\n",
      "Epoch 36/50\n",
      "60/60 [==============================] - 71s 1s/step - loss: 0.0596 - acc: 0.9839 - val_loss: 0.5108 - val_acc: 0.8662\n",
      "Epoch 37/50\n",
      "60/60 [==============================] - 71s 1s/step - loss: 0.0842 - acc: 0.9806 - val_loss: 0.7325 - val_acc: 0.8600\n",
      "Epoch 38/50\n",
      "60/60 [==============================] - 71s 1s/step - loss: 0.0727 - acc: 0.9836 - val_loss: 0.6328 - val_acc: 0.8537\n",
      "Epoch 39/50\n",
      "60/60 [==============================] - 71s 1s/step - loss: 0.1027 - acc: 0.9792 - val_loss: 0.5185 - val_acc: 0.8662\n",
      "Epoch 40/50\n",
      "60/60 [==============================] - 70s 1s/step - loss: 0.0561 - acc: 0.9867 - val_loss: 0.6691 - val_acc: 0.8600\n",
      "Epoch 41/50\n",
      "60/60 [==============================] - 71s 1s/step - loss: 0.0579 - acc: 0.9853 - val_loss: 0.6096 - val_acc: 0.8700\n",
      "Epoch 42/50\n",
      "60/60 [==============================] - 70s 1s/step - loss: 0.0489 - acc: 0.9853 - val_loss: 0.5600 - val_acc: 0.8862\n",
      "Epoch 43/50\n",
      "60/60 [==============================] - 70s 1s/step - loss: 0.0732 - acc: 0.9817 - val_loss: 0.6393 - val_acc: 0.8562\n",
      "Epoch 44/50\n",
      "60/60 [==============================] - 70s 1s/step - loss: 0.0438 - acc: 0.9881 - val_loss: 0.7288 - val_acc: 0.8687\n",
      "Epoch 45/50\n",
      "60/60 [==============================] - 70s 1s/step - loss: 0.0489 - acc: 0.9867 - val_loss: 0.5496 - val_acc: 0.8763\n",
      "Epoch 46/50\n",
      "60/60 [==============================] - 70s 1s/step - loss: 0.0516 - acc: 0.9856 - val_loss: 0.6412 - val_acc: 0.8787\n",
      "Epoch 47/50\n",
      "60/60 [==============================] - 70s 1s/step - loss: 0.0365 - acc: 0.9908 - val_loss: 0.7523 - val_acc: 0.8600\n",
      "Epoch 48/50\n",
      "60/60 [==============================] - 70s 1s/step - loss: 0.0372 - acc: 0.9906 - val_loss: 0.7544 - val_acc: 0.8662\n",
      "Epoch 49/50\n",
      "60/60 [==============================] - 70s 1s/step - loss: 0.0356 - acc: 0.9892 - val_loss: 1.3480 - val_acc: 0.8063\n",
      "Epoch 50/50\n",
      "60/60 [==============================] - 70s 1s/step - loss: 0.0395 - acc: 0.9878 - val_loss: 0.8162 - val_acc: 0.8612\n",
      "Computation time:3516.810241 sec\n"
     ]
    }
   ],
   "source": [
    "from keras.callbacks import EarlyStopping, ModelCheckpoint\n",
    "import time\n",
    "from keras.callbacks import EarlyStopping, ModelCheckpoint\n",
    "startTime = time.time()\n",
    "\n",
    "callbacks_list = [ModelCheckpoint(filepath='simpson_lr15e5_rmsprop.h5', monitor='val_loss', save_best_only=True)] # val_loss기준 가장 낮은 수치의 결과를 저장\n",
    "# EarlyStopping(monitor='val_loss', patience=5),\n",
    "\n",
    "history = model.fit_generator(\n",
    "      train_generator,\n",
    "      steps_per_epoch=60,\n",
    "      epochs=50,\n",
    "      validation_data=validation_generator,\n",
    "      validation_steps=16,\n",
    "      callbacks = callbacks_list) # 체크포인트 활성화\n",
    "\n",
    "print(\"Computation time:{0:3f} sec\".format(time.time()-startTime))"
   ]
  },
  {
   "cell_type": "code",
   "execution_count": 7,
   "metadata": {},
   "outputs": [
    {
     "data": {
      "image/png": "[encoded data removed]",
      "text/plain": [
       "<Figure size 432x288 with 1 Axes>"
      ]
     },
     "metadata": {
      "needs_background": "light"
     },
     "output_type": "display_data"
    },
    {
     "data": {
      "image/png": "[encoded data removed]",
      "text/plain": [
       "<Figure size 432x288 with 1 Axes>"
      ]
     },
     "metadata": {
      "needs_background": "light"
     },
     "output_type": "display_data"
    }
   ],
   "source": [
    "import matplotlib.pyplot as plt\n",
    "\n",
    "acc = history.history['acc']\n",
    "val_acc = history.history['val_acc']\n",
    "loss = history.history['loss']\n",
    "val_loss = history.history['val_loss']\n",
    "\n",
    "epochs = range(len(acc))\n",
    "\n",
    "plt.plot(epochs, acc, 'b', label='Training acc')\n",
    "plt.plot(epochs, val_acc, 'r', label='Validation acc')\n",
    "plt.title('Training and validation accuracy')\n",
    "plt.legend()\n",
    "\n",
    "plt.figure()\n",
    "\n",
    "plt.plot(epochs, loss, 'b', label='Training loss')\n",
    "plt.plot(epochs, val_loss, 'r', label='Validation loss')\n",
    "plt.title('Training and validation loss')\n",
    "plt.legend()\n",
    "\n",
    "plt.show()"
   ]
  },
  {
   "cell_type": "code",
   "execution_count": 8,
   "metadata": {
    "scrolled": true
   },
   "outputs": [
    {
     "name": "stdout",
     "output_type": "stream",
     "text": [
      "Found 600 images belonging to 4 classes.\n",
      "test acc: 0.8833333194255829\n"
     ]
    }
   ],
   "source": [
    "test_generator = test_datagen.flow_from_directory(\n",
    "        test_dir,\n",
    "        target_size=(150, 150),\n",
    "        color_mode = 'grayscale',\n",
    "        batch_size=60,\n",
    "        class_mode='categorical')\n",
    "\n",
    "test_loss, test_acc = model.evaluate_generator(test_generator, steps=10)\n",
    "print('test acc:', test_acc)"
   ]
  },
  {
   "cell_type": "code",
   "execution_count": 9,
   "metadata": {},
   "outputs": [
    {
     "name": "stdout",
     "output_type": "stream",
     "text": [
      "(1, 150, 150, 1)\n"
     ]
    },
    {
     "data": {
      "image/png": "[encoded data removed]",
      "text/plain": [
       "<PIL.Image.Image image mode=L size=300x300 at 0x1F260CFF7F0>"
      ]
     },
     "execution_count": 9,
     "metadata": {},
     "output_type": "execute_result"
    }
   ],
   "source": [
    "# 이미지 파일 불러오기\n",
    "from keras.preprocessing import image\n",
    "import numpy as np\n",
    "from keras.models import load_model\n",
    "import matplotlib.pyplot as plt\n",
    "\n",
    "# 이미지 불러오기 / 전처리\n",
    "img_name = 'sim007.jpg'\n",
    "img = image.load_img('test_image/%s'%img_name, target_size=(150,150))\n",
    "img = img.convert('L')\n",
    "img_tensor = image.img_to_array(img)\n",
    "img_tensor = np.expand_dims(img_tensor,axis=0)\n",
    "img_tensor /= 255.\n",
    "print(img_tensor.shape)\n",
    "\n",
    "a=[]\n",
    "per = model.predict(img_tensor)\n",
    "label_index = model.predict_classes(img_tensor)[0]\n",
    "for i in range(4):\n",
    "    a.append(simpson_labels[i]+\"    \"+str(round(per[0][i]*100,3))+\"%\")\n",
    "\n",
    "a.append('\\nresult : '+simpson_labels[model.predict_classes(img_tensor)[0]])\n",
    "id='\\n'.join(a)\n",
    "\n",
    "from PIL import Image\n",
    "from PIL import ImageFont\n",
    "from PIL import ImageDraw \n",
    "im_sample = Image.new(\"RGB\", (110,90),(255,255,255))\n",
    "draw = ImageDraw.Draw(im_sample)\n",
    "# font = ImageFont.truetype(<font-file>, <font-size>)\n",
    "\n",
    "font = ImageFont.truetype(\"CALIFR.TTF\", 10)\n",
    "# draw.text((x, y),\"Sample Text\",(r,g,b))\n",
    "draw.text((5, 5),id,(0,0,0),font=font)\n",
    "\n",
    "img = image.load_img('test_image/%s'%img_name, target_size=(300,300))\n",
    "img = img.convert('L')\n",
    "img.paste(im_sample)\n",
    "img.save('sample-out.jpg')\n",
    "img"
   ]
  },
  {
   "cell_type": "code",
   "execution_count": null,
   "metadata": {},
   "outputs": [],
   "source": []
  },
  {
   "cell_type": "code",
   "execution_count": null,
   "metadata": {},
   "outputs": [],
   "source": []
  },
  {
   "cell_type": "code",
   "execution_count": null,
   "metadata": {},
   "outputs": [],
   "source": []
  }
 ],
 "metadata": {
  "kernelspec": {
   "display_name": "keras",
   "language": "python",
   "name": "keras"
  },
  "language_info": {
   "codemirror_mode": {
    "name": "ipython",
    "version": 3
   },
   "file_extension": ".py",
   "mimetype": "text/x-python",
   "name": "python",
   "nbconvert_exporter": "python",
   "pygments_lexer": "ipython3",
   "version": "3.6.8"
  }
 },
 "nbformat": 4,
 "nbformat_minor": 2
}
